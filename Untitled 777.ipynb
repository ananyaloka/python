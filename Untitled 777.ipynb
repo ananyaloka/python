{
 "cells": [
  {
   "cell_type": "code",
   "execution_count": 7,
   "id": "7537a3c1-a69a-4e9e-a0ee-85b516973947",
   "metadata": {},
   "outputs": [
    {
     "ename": "TypeError",
     "evalue": "can only concatenate str (not \"int\") to str",
     "output_type": "error",
     "traceback": [
      "\u001b[1;31m---------------------------------------------------------------------------\u001b[0m",
      "\u001b[1;31mTypeError\u001b[0m                                 Traceback (most recent call last)",
      "Cell \u001b[1;32mIn[7], line 1\u001b[0m\n\u001b[1;32m----> 1\u001b[0m \u001b[38;5;28;01mfor\u001b[39;00m i \u001b[38;5;129;01min\u001b[39;00m \u001b[38;5;28mrange\u001b[39m(\u001b[38;5;241m1\u001b[39m,x\u001b[38;5;241m+\u001b[39m\u001b[38;5;241m1\u001b[39m):\n\u001b[0;32m      2\u001b[0m     \u001b[38;5;28mprint\u001b[39m(x)\n",
      "\u001b[1;31mTypeError\u001b[0m: can only concatenate str (not \"int\") to str"
     ]
    }
   ],
   "source": [
    "or i in range(1,x+1):\n",
    "    print(x)\n",
    "    "
   ]
  },
  {
   "cell_type": "code",
   "execution_count": 9,
   "id": "8ecf908c-8243-44e1-889c-829af7b63461",
   "metadata": {},
   "outputs": [
    {
     "name": "stdin",
     "output_type": "stream",
     "text": [
      "Enter the number:  13\n"
     ]
    }
   ],
   "source": [
    "x=input(\"Enter the number: \")"
   ]
  },
  {
   "cell_type": "code",
   "execution_count": 5,
   "id": "e9046a2e-2b87-4bc6-ba0a-381c462387b6",
   "metadata": {},
   "outputs": [
    {
     "data": {
      "text/plain": [
       "'13'"
      ]
     },
     "execution_count": 5,
     "metadata": {},
     "output_type": "execute_result"
    }
   ],
   "source": [
    "x"
   ]
  },
  {
   "cell_type": "code",
   "execution_count": 11,
   "id": "d0a4d09f-2752-45ac-8806-c6dd64d0a419",
   "metadata": {},
   "outputs": [
    {
     "ename": "TypeError",
     "evalue": "can only concatenate str (not \"int\") to str",
     "output_type": "error",
     "traceback": [
      "\u001b[1;31m---------------------------------------------------------------------------\u001b[0m",
      "\u001b[1;31mTypeError\u001b[0m                                 Traceback (most recent call last)",
      "Cell \u001b[1;32mIn[11], line 1\u001b[0m\n\u001b[1;32m----> 1\u001b[0m \u001b[38;5;28;01mfor\u001b[39;00m i \u001b[38;5;129;01min\u001b[39;00m \u001b[38;5;28mrange\u001b[39m(\u001b[38;5;241m1\u001b[39m,x\u001b[38;5;241m+\u001b[39m\u001b[38;5;241m1\u001b[39m):\n\u001b[0;32m      2\u001b[0m     \u001b[38;5;28mprint\u001b[39m(x)\n",
      "\u001b[1;31mTypeError\u001b[0m: can only concatenate str (not \"int\") to str"
     ]
    }
   ],
   "source": [
    "for i in range(1,x+1):\n",
    "    print(x)\n",
    "    "
   ]
  },
  {
   "cell_type": "code",
   "execution_count": null,
   "id": "ecbc6ed8-0364-4b78-b210-c08c4418b227",
   "metadata": {},
   "outputs": [],
   "source": [
    "num_factors=0"
   ]
  },
  {
   "cell_type": "code",
   "execution_count": 17,
   "id": "3dbfaf22-612c-4a6e-ab76-3d9e38bde8ad",
   "metadata": {},
   "outputs": [
    {
     "name": "stdin",
     "output_type": "stream",
     "text": [
      "Enter the number:  789\n"
     ]
    },
    {
     "name": "stdout",
     "output_type": "stream",
     "text": [
      "not prime\n"
     ]
    }
   ],
   "source": [
    "x=int(input(\"Enter the number: \"))\n",
    "num_factors=0\n",
    "for i in range(1,x+1):\n",
    "    if(x%i==0):\n",
    "        num_factors=num_factors+1\n",
    "if(num_factors)==2:\n",
    "    print('prime')\n",
    "else:\n",
    "    print('not prime')"
   ]
  },
  {
   "cell_type": "code",
   "execution_count": 23,
   "id": "8d61101e-38c4-48d8-8258-f1eb3d4dd227",
   "metadata": {},
   "outputs": [],
   "source": [
    "import math"
   ]
  },
  {
   "cell_type": "code",
   "execution_count": 25,
   "id": "7387ec67-1f68-4038-a785-4dc7e1b76cb4",
   "metadata": {},
   "outputs": [
    {
     "data": {
      "text/plain": [
       "7"
      ]
     },
     "execution_count": 25,
     "metadata": {},
     "output_type": "execute_result"
    }
   ],
   "source": [
    "math.floor(7.9)"
   ]
  },
  {
   "cell_type": "code",
   "execution_count": 27,
   "id": "23193b03-9dbe-41cb-829a-3f8e57fabacd",
   "metadata": {},
   "outputs": [
    {
     "data": {
      "text/plain": [
       "8"
      ]
     },
     "execution_count": 27,
     "metadata": {},
     "output_type": "execute_result"
    }
   ],
   "source": [
    "math.ceil(7.9)"
   ]
  },
  {
   "cell_type": "code",
   "execution_count": 39,
   "id": "c3403c51-f04f-454b-95ec-b8d9273bdedd",
   "metadata": {},
   "outputs": [],
   "source": [
    "l=[1,4,4,3,5,4,3,5,5,3,6,2,5,7,8]\n",
    "string='shbdjyefbmaejfamwejhemrfbeu'"
   ]
  },
  {
   "cell_type": "code",
   "execution_count": 41,
   "id": "ad9f389c-5857-41a4-aa87-7fa8ab6d338a",
   "metadata": {},
   "outputs": [],
   "source": [
    "d={}"
   ]
  },
  {
   "cell_type": "code",
   "execution_count": 43,
   "id": "b5f72c1e-13c4-4b7f-819c-8e12f63b4584",
   "metadata": {},
   "outputs": [
    {
     "data": {
      "text/plain": [
       "['__abs__',\n",
       " '__add__',\n",
       " '__and__',\n",
       " '__bool__',\n",
       " '__ceil__',\n",
       " '__class__',\n",
       " '__delattr__',\n",
       " '__dir__',\n",
       " '__divmod__',\n",
       " '__doc__',\n",
       " '__eq__',\n",
       " '__float__',\n",
       " '__floor__',\n",
       " '__floordiv__',\n",
       " '__format__',\n",
       " '__ge__',\n",
       " '__getattribute__',\n",
       " '__getnewargs__',\n",
       " '__getstate__',\n",
       " '__gt__',\n",
       " '__hash__',\n",
       " '__index__',\n",
       " '__init__',\n",
       " '__init_subclass__',\n",
       " '__int__',\n",
       " '__invert__',\n",
       " '__le__',\n",
       " '__lshift__',\n",
       " '__lt__',\n",
       " '__mod__',\n",
       " '__mul__',\n",
       " '__ne__',\n",
       " '__neg__',\n",
       " '__new__',\n",
       " '__or__',\n",
       " '__pos__',\n",
       " '__pow__',\n",
       " '__radd__',\n",
       " '__rand__',\n",
       " '__rdivmod__',\n",
       " '__reduce__',\n",
       " '__reduce_ex__',\n",
       " '__repr__',\n",
       " '__rfloordiv__',\n",
       " '__rlshift__',\n",
       " '__rmod__',\n",
       " '__rmul__',\n",
       " '__ror__',\n",
       " '__round__',\n",
       " '__rpow__',\n",
       " '__rrshift__',\n",
       " '__rshift__',\n",
       " '__rsub__',\n",
       " '__rtruediv__',\n",
       " '__rxor__',\n",
       " '__setattr__',\n",
       " '__sizeof__',\n",
       " '__str__',\n",
       " '__sub__',\n",
       " '__subclasshook__',\n",
       " '__truediv__',\n",
       " '__trunc__',\n",
       " '__xor__',\n",
       " 'as_integer_ratio',\n",
       " 'bit_count',\n",
       " 'bit_length',\n",
       " 'conjugate',\n",
       " 'denominator',\n",
       " 'from_bytes',\n",
       " 'imag',\n",
       " 'is_integer',\n",
       " 'numerator',\n",
       " 'real',\n",
       " 'to_bytes']"
      ]
     },
     "execution_count": 43,
     "metadata": {},
     "output_type": "execute_result"
    }
   ],
   "source": [
    "dir(1)"
   ]
  },
  {
   "cell_type": "code",
   "execution_count": 45,
   "id": "87c369e6-4361-4b01-b784-25d34e20be3c",
   "metadata": {},
   "outputs": [
    {
     "data": {
      "text/plain": [
       "3"
      ]
     },
     "execution_count": 45,
     "metadata": {},
     "output_type": "execute_result"
    }
   ],
   "source": [
    "l.count(3)"
   ]
  },
  {
   "cell_type": "code",
   "execution_count": 47,
   "id": "a72de790-28c0-49c4-93f4-dd671316a693",
   "metadata": {},
   "outputs": [],
   "source": [
    "for i in l:\n",
    "    d[i]=l.count(i)"
   ]
  },
  {
   "cell_type": "code",
   "execution_count": 49,
   "id": "65605acd-26df-4630-8f31-26f4480c1760",
   "metadata": {},
   "outputs": [
    {
     "data": {
      "text/plain": [
       "{1: 1, 4: 3, 3: 3, 5: 4, 6: 1, 2: 1, 7: 1, 8: 1}"
      ]
     },
     "execution_count": 49,
     "metadata": {},
     "output_type": "execute_result"
    }
   ],
   "source": [
    "d"
   ]
  },
  {
   "cell_type": "code",
   "execution_count": 55,
   "id": "d749494f-0a1f-41e0-bf47-56acd5de7428",
   "metadata": {},
   "outputs": [],
   "source": [
    "l2 = [1,2,1,1,1,2,1,2,1]"
   ]
  },
  {
   "cell_type": "code",
   "execution_count": 57,
   "id": "4488ea71-e545-4c3d-bb72-dc6b627f3fcd",
   "metadata": {},
   "outputs": [],
   "source": [
    "d = {}"
   ]
  },
  {
   "cell_type": "code",
   "execution_count": 66,
   "id": "6ce4ea5b-165c-4fc0-9a25-605da7f285ed",
   "metadata": {},
   "outputs": [],
   "source": [
    "seen_nums=[]"
   ]
  },
  {
   "cell_type": "code",
   "execution_count": 68,
   "id": "c02a13fd-efc1-4ae1-8b2a-9070b81e97c1",
   "metadata": {},
   "outputs": [],
   "source": [
    "for i in l :\n",
    "    if i not in seen_nums:\n",
    "        d[i] =l.count(i)\n",
    "        seen_nums.append(i)"
   ]
  },
  {
   "cell_type": "code",
   "execution_count": 70,
   "id": "d0150767-a7a7-4865-bb3f-18340c3eaedb",
   "metadata": {},
   "outputs": [
    {
     "data": {
      "text/plain": [
       "{1: 1, 4: 3, 3: 3, 5: 4, 6: 1, 2: 1, 7: 1, 8: 1}"
      ]
     },
     "execution_count": 70,
     "metadata": {},
     "output_type": "execute_result"
    }
   ],
   "source": [
    "d"
   ]
  },
  {
   "cell_type": "code",
   "execution_count": 72,
   "id": "46fac69e-b5a6-418d-b408-4d0b29f3f965",
   "metadata": {},
   "outputs": [],
   "source": [
    "l = [1,2,1,3,5,67,2,1,3,5,3,4,1,3]\n",
    "output = [1,'one',2,1,'one',3,5,6,7,2,1,'one',3,5,1,'one',3,4,1,'one',3]"
   ]
  },
  {
   "cell_type": "code",
   "execution_count": 79,
   "id": "f8a2ac13-9573-4331-93c1-ba68e27cf123",
   "metadata": {},
   "outputs": [
    {
     "ename": "SyntaxError",
     "evalue": "invalid syntax (3583655139.py, line 3)",
     "output_type": "error",
     "traceback": [
      "\u001b[1;36m  Cell \u001b[1;32mIn[79], line 3\u001b[1;36m\u001b[0m\n\u001b[1;33m    op =\u001b[0m\n\u001b[1;37m        ^\u001b[0m\n\u001b[1;31mSyntaxError\u001b[0m\u001b[1;31m:\u001b[0m invalid syntax\n"
     ]
    }
   ],
   "source": [
    "ip = abc\n",
    "\n",
    "op =\n",
    "\n",
    "abc\n",
    "acd\n",
    "dac\n",
    "bca\n",
    "cab\n",
    "cba"
   ]
  },
  {
   "cell_type": "code",
   "execution_count": null,
   "id": "9d9a9e1f-fb48-451f-affb-000957f3b3bd",
   "metadata": {},
   "outputs": [],
   "source": []
  },
  {
   "cell_type": "code",
   "execution_count": null,
   "id": "f6900e14-b6d4-4469-b0d9-eacb8bcbca3a",
   "metadata": {},
   "outputs": [],
   "source": []
  }
 ],
 "metadata": {
  "kernelspec": {
   "display_name": "Python [conda env:base] *",
   "language": "python",
   "name": "conda-base-py"
  },
  "language_info": {
   "codemirror_mode": {
    "name": "ipython",
    "version": 3
   },
   "file_extension": ".py",
   "mimetype": "text/x-python",
   "name": "python",
   "nbconvert_exporter": "python",
   "pygments_lexer": "ipython3",
   "version": "3.12.7"
  }
 },
 "nbformat": 4,
 "nbformat_minor": 5
}
