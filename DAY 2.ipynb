{
 "cells": [
  {
   "cell_type": "code",
   "execution_count": 1,
   "id": "07684ab3-8e4c-49d0-a0e0-c5ab0156924c",
   "metadata": {},
   "outputs": [
    {
     "name": "stdout",
     "output_type": "stream",
     "text": [
      "10\n",
      "30\n",
      "50\n"
     ]
    }
   ],
   "source": [
    "my_list = [10, 20, 30, 40, 50]\n",
    "\n",
    "# Accessing elements using index\n",
    "print(my_list[0])  \n",
    "print(my_list[2])   \n",
    "print(my_list[-1]) "
   ]
  },
  {
   "cell_type": "markdown",
   "id": "8a6650fa-5314-44d6-93ee-6edd2dbcb876",
   "metadata": {},
   "source": [
    "Tuple"
   ]
  },
  {
   "cell_type": "markdown",
   "id": "e1be469c-dc9f-467f-a5aa-717c91c8bd5f",
   "metadata": {},
   "source": [
    "my_tuple = ('apple', 'banana', 'cherry', 'date', 'elderberry')\n",
    "\n",
    "# Accessing elements using index\n",
    "print(my_tuple[1])  \n",
    "print(my_tuple[3]) \n",
    "print(my_tuple[-2])\n"
   ]
  },
  {
   "cell_type": "code",
   "execution_count": null,
   "id": "aa4d1b11-c62f-45de-a259-d9400d0ceb50",
   "metadata": {},
   "outputs": [],
   "source": []
  }
 ],
 "metadata": {
  "kernelspec": {
   "display_name": "Python 3 (ipykernel)",
   "language": "python",
   "name": "python3"
  },
  "language_info": {
   "codemirror_mode": {
    "name": "ipython",
    "version": 3
   },
   "file_extension": ".py",
   "mimetype": "text/x-python",
   "name": "python",
   "nbconvert_exporter": "python",
   "pygments_lexer": "ipython3",
   "version": "3.12.7"
  }
 },
 "nbformat": 4,
 "nbformat_minor": 5
}
