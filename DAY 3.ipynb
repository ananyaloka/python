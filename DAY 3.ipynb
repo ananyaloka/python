{
 "cells": [
  {
   "cell_type": "code",
   "execution_count": 2,
   "id": "06ef2ec9-5cd3-4365-a2d0-5ba1337df36b",
   "metadata": {},
   "outputs": [
    {
     "name": "stdin",
     "output_type": "stream",
     "text": [
      "Enter marks for Subject 1:  90\n",
      "Enter marks for Subject 2:  80\n",
      "Enter marks for Subject 3:  70\n"
     ]
    },
    {
     "name": "stdout",
     "output_type": "stream",
     "text": [
      "Grade: B\n"
     ]
    }
   ],
   "source": [
    "# Input: Marks of three subjects\n",
    "marks1 = float(input(\"Enter marks for Subject 1: \"))\n",
    "marks2 = float(input(\"Enter marks for Subject 2: \"))\n",
    "marks3 = float(input(\"Enter marks for Subject 3: \"))\n",
    "\n",
    "# Calculate the average of the marks\n",
    "average = (marks1 + marks2 + marks3) / 3\n",
    "\n",
    "# Check the grade based on the average\n",
    "if average >= 90:\n",
    "    print(\"Grade: A\")\n",
    "elif 80 <= average < 90:\n",
    "    print(\"Grade: B\")\n",
    "elif 70 <= average < 80:\n",
    "    print(\"Grade: C\")\n",
    "else:\n",
    "    print(\"Grade: Fail\")\n"
   ]
  },
  {
   "cell_type": "code",
   "execution_count": null,
   "id": "e7bb0de2-2a1a-49e6-90a7-40ebdd29c9a4",
   "metadata": {},
   "outputs": [],
   "source": []
  }
 ],
 "metadata": {
  "kernelspec": {
   "display_name": "Python 3 (ipykernel)",
   "language": "python",
   "name": "python3"
  },
  "language_info": {
   "codemirror_mode": {
    "name": "ipython",
    "version": 3
   },
   "file_extension": ".py",
   "mimetype": "text/x-python",
   "name": "python",
   "nbconvert_exporter": "python",
   "pygments_lexer": "ipython3",
   "version": "3.12.7"
  }
 },
 "nbformat": 4,
 "nbformat_minor": 5
}
